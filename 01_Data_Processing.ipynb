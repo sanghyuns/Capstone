{
 "cells": [
  {
   "cell_type": "markdown",
   "id": "0cc1b596",
   "metadata": {},
   "source": [
    "# Saving Frames From Videos\n",
    "\n",
    "Here we have a function that takes the videos as downloaded and places each frame into the corresponding folders. The entirety of the videos could not be saved due to the limitations of my local device. \n",
    "\n",
    "The whole dataset can be found here:\n",
    "https://sites.google.com/view/utarldd/home\n",
    "\n",
    "In order to keep the context of the whole video, I opted to save 1 frame per second of video. This reduced the total amount of frames from about 20,000 to 600 per video.\n",
    "\n",
    "The data was then cleaned further. Of the three states of each participant, the 'low-vigilant' group was dropped, as it offered too much ambiguity within the classification."
   ]
  },
  {
   "cell_type": "code",
   "execution_count": 1,
   "id": "383c8ee4",
   "metadata": {
    "scrolled": true
   },
   "outputs": [],
   "source": [
    "import cv2"
   ]
  },
  {
   "cell_type": "code",
   "execution_count": 5,
   "id": "ac17546d",
   "metadata": {
    "scrolled": true
   },
   "outputs": [
    {
     "name": "stderr",
     "output_type": "stream",
     "text": [
      "OpenCV: Couldn't read video stream from file \"./Fold1_part1/01/0.mov\"\n"
     ]
    }
   ],
   "source": [
    "count = 0\n",
    "vidcap = cv2.VideoCapture('./Fold1_part1/01/0.mov')\n",
    "success,image = vidcap.read()\n",
    "success = True\n",
    "while success:\n",
    "    vidcap.set(cv2.CAP_PROP_POS_MSEC,(count*1000)) \n",
    "    success,image = vidcap.read()\n",
    "    if success:\n",
    "        cv2.imwrite('./fold1_part1_frames/01/0/frame%d.jpg' % count, image)\n",
    "        # save frame as JPEG file\n",
    "        count = count + 1\n",
    "        \n",
    "# derived from https://stackoverflow.com/questions/33311153/python-extracting-and-saving-video-frames"
   ]
  }
 ],
 "metadata": {
  "kernelspec": {
   "display_name": "Python 3 (ipykernel)",
   "language": "python",
   "name": "python3"
  },
  "language_info": {
   "codemirror_mode": {
    "name": "ipython",
    "version": 3
   },
   "file_extension": ".py",
   "mimetype": "text/x-python",
   "name": "python",
   "nbconvert_exporter": "python",
   "pygments_lexer": "ipython3",
   "version": "3.9.12"
  }
 },
 "nbformat": 4,
 "nbformat_minor": 5
}
