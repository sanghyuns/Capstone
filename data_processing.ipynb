{
 "cells": [
  {
   "cell_type": "code",
   "execution_count": 1,
   "id": "383c8ee4",
   "metadata": {
    "scrolled": true
   },
   "outputs": [],
   "source": [
    "import cv2     # for capturing videos"
   ]
  },
  {
   "cell_type": "markdown",
   "id": "949b7a5a",
   "metadata": {},
   "source": [
    "Separating "
   ]
  },
  {
   "cell_type": "code",
   "execution_count": 2,
   "id": "1f05cdee",
   "metadata": {},
   "outputs": [],
   "source": [
    "#example = cv2.VideoCapture('./Fold1_part1/01/0.mov')"
   ]
  },
  {
   "cell_type": "code",
   "execution_count": 3,
   "id": "b44f53aa",
   "metadata": {},
   "outputs": [],
   "source": [
    "#success, image = example.read()\n",
    "#count=0\n",
    "#while success:\n",
    "#    cv2.imwrite('frame%d.jpg' % count, image)\n",
    "#    success, image = example.read()\n",
    "#    count += 1"
   ]
  },
  {
   "cell_type": "markdown",
   "id": "476b1939",
   "metadata": {},
   "source": [
    "name file as person, state, frame #"
   ]
  },
  {
   "cell_type": "code",
   "execution_count": 4,
   "id": "35d4d3cb",
   "metadata": {
    "scrolled": true
   },
   "outputs": [],
   "source": [
    "#example.get(5)"
   ]
  },
  {
   "cell_type": "code",
   "execution_count": 5,
   "id": "ac17546d",
   "metadata": {
    "scrolled": true
   },
   "outputs": [
    {
     "name": "stderr",
     "output_type": "stream",
     "text": [
      "OpenCV: Couldn't read video stream from file \"./Fold1_part1/01/0.mov\"\n"
     ]
    }
   ],
   "source": [
    "count = 0\n",
    "vidcap = cv2.VideoCapture('./Fold1_part1/01/0.mov')\n",
    "success,image = vidcap.read()\n",
    "success = True\n",
    "while success:\n",
    "    vidcap.set(cv2.CAP_PROP_POS_MSEC,(count*1000)) \n",
    "    success,image = vidcap.read()\n",
    "    if success:\n",
    "        cv2.imwrite('./fold1_part1_frames/01/0/frame%d.jpg' % count, image)\n",
    "        # save frame as JPEG file\n",
    "        count = count + 1\n",
    "        \n",
    "# derived from https://stackoverflow.com/questions/33311153/python-extracting-and-saving-video-frames"
   ]
  }
 ],
 "metadata": {
  "kernelspec": {
   "display_name": "Python 3 (ipykernel)",
   "language": "python",
   "name": "python3"
  },
  "language_info": {
   "codemirror_mode": {
    "name": "ipython",
    "version": 3
   },
   "file_extension": ".py",
   "mimetype": "text/x-python",
   "name": "python",
   "nbconvert_exporter": "python",
   "pygments_lexer": "ipython3",
   "version": "3.9.12"
  }
 },
 "nbformat": 4,
 "nbformat_minor": 5
}
